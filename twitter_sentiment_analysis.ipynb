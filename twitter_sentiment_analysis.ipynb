{
  "nbformat": 4,
  "nbformat_minor": 0,
  "metadata": {
    "colab": {
      "name": "twitter-sentiment-analysis.ipynb",
      "provenance": []
    },
    "kernelspec": {
      "name": "python3",
      "display_name": "Python 3"
    }
  },
  "cells": [
    {
      "cell_type": "markdown",
      "metadata": {
        "id": "hef4XCQmVxvX"
      },
      "source": [
        "## Imporing Libraries"
      ]
    },
    {
      "cell_type": "code",
      "metadata": {
        "id": "hVDC7XgnV23K"
      },
      "source": [
        "import pandas as pd\r\n",
        "import numpy as np\r\n",
        "import matplotlib.pyplot as plt"
      ],
      "execution_count": 1,
      "outputs": []
    },
    {
      "cell_type": "markdown",
      "metadata": {
        "id": "9ptQJbeqV-Dk"
      },
      "source": [
        "## Loading the Training and Testing Data\r\n",
        "> label “0”: Positive Sentiment\r\n",
        "\r\n",
        "> label “1”: Negative Sentiment\r\n",
        "\r\n",
        "\r\n",
        "\r\n",
        "\r\n"
      ]
    },
    {
      "cell_type": "code",
      "metadata": {
        "colab": {
          "base_uri": "https://localhost:8080/",
          "height": 216
        },
        "id": "sZkPpM79V8Wz",
        "outputId": "ce3dfbe6-8b52-4f81-d06c-bcbc5f3230ab"
      },
      "source": [
        "train_tweets = pd.read_csv(\"Twitter-Sentiment-Analysis-Supervised-Learning/Data/train_tweets.csv\")\r\n",
        "print(train_tweets.shape)\r\n",
        "train_tweets.head()"
      ],
      "execution_count": 2,
      "outputs": [
        {
          "output_type": "stream",
          "text": [
            "(31962, 3)\n"
          ],
          "name": "stdout"
        },
        {
          "output_type": "execute_result",
          "data": {
            "text/html": [
              "<div>\n",
              "<style scoped>\n",
              "    .dataframe tbody tr th:only-of-type {\n",
              "        vertical-align: middle;\n",
              "    }\n",
              "\n",
              "    .dataframe tbody tr th {\n",
              "        vertical-align: top;\n",
              "    }\n",
              "\n",
              "    .dataframe thead th {\n",
              "        text-align: right;\n",
              "    }\n",
              "</style>\n",
              "<table border=\"1\" class=\"dataframe\">\n",
              "  <thead>\n",
              "    <tr style=\"text-align: right;\">\n",
              "      <th></th>\n",
              "      <th>id</th>\n",
              "      <th>label</th>\n",
              "      <th>tweet</th>\n",
              "    </tr>\n",
              "  </thead>\n",
              "  <tbody>\n",
              "    <tr>\n",
              "      <th>0</th>\n",
              "      <td>1</td>\n",
              "      <td>0</td>\n",
              "      <td>@user when a father is dysfunctional and is s...</td>\n",
              "    </tr>\n",
              "    <tr>\n",
              "      <th>1</th>\n",
              "      <td>2</td>\n",
              "      <td>0</td>\n",
              "      <td>@user @user thanks for #lyft credit i can't us...</td>\n",
              "    </tr>\n",
              "    <tr>\n",
              "      <th>2</th>\n",
              "      <td>3</td>\n",
              "      <td>0</td>\n",
              "      <td>bihday your majesty</td>\n",
              "    </tr>\n",
              "    <tr>\n",
              "      <th>3</th>\n",
              "      <td>4</td>\n",
              "      <td>0</td>\n",
              "      <td>#model   i love u take with u all the time in ...</td>\n",
              "    </tr>\n",
              "    <tr>\n",
              "      <th>4</th>\n",
              "      <td>5</td>\n",
              "      <td>0</td>\n",
              "      <td>factsguide: society now    #motivation</td>\n",
              "    </tr>\n",
              "  </tbody>\n",
              "</table>\n",
              "</div>"
            ],
            "text/plain": [
              "   id  label                                              tweet\n",
              "0   1      0   @user when a father is dysfunctional and is s...\n",
              "1   2      0  @user @user thanks for #lyft credit i can't us...\n",
              "2   3      0                                bihday your majesty\n",
              "3   4      0  #model   i love u take with u all the time in ...\n",
              "4   5      0             factsguide: society now    #motivation"
            ]
          },
          "metadata": {
            "tags": []
          },
          "execution_count": 2
        }
      ]
    },
    {
      "cell_type": "markdown",
      "metadata": {
        "id": "nQWkVxVEXSGO"
      },
      "source": [
        "## Analyzing the data"
      ]
    },
    {
      "cell_type": "code",
      "metadata": {
        "id": "jTP8VE8YZ2nt"
      },
      "source": [
        "import seaborn as sns"
      ],
      "execution_count": 3,
      "outputs": []
    },
    {
      "cell_type": "code",
      "metadata": {
        "colab": {
          "base_uri": "https://localhost:8080/"
        },
        "id": "MRggJ2iN47Ul",
        "outputId": "fbfa0e1a-569c-4f75-933b-3f9cc29ca89c"
      },
      "source": [
        "print(train_tweets.shape)\r\n",
        "print(train_tweets.info())"
      ],
      "execution_count": 4,
      "outputs": [
        {
          "output_type": "stream",
          "text": [
            "(31962, 3)\n",
            "<class 'pandas.core.frame.DataFrame'>\n",
            "RangeIndex: 31962 entries, 0 to 31961\n",
            "Data columns (total 3 columns):\n",
            " #   Column  Non-Null Count  Dtype \n",
            "---  ------  --------------  ----- \n",
            " 0   id      31962 non-null  int64 \n",
            " 1   label   31962 non-null  int64 \n",
            " 2   tweet   31962 non-null  object\n",
            "dtypes: int64(2), object(1)\n",
            "memory usage: 749.2+ KB\n",
            "None\n"
          ],
          "name": "stdout"
        }
      ]
    },
    {
      "cell_type": "code",
      "metadata": {
        "colab": {
          "base_uri": "https://localhost:8080/"
        },
        "id": "Zaa73yBu6INU",
        "outputId": "f408c057-7cf7-4a9c-f4c0-35d18ac05d25"
      },
      "source": [
        "train_tweets['label'].value_counts()"
      ],
      "execution_count": 5,
      "outputs": [
        {
          "output_type": "execute_result",
          "data": {
            "text/plain": [
              "0    29720\n",
              "1     2242\n",
              "Name: label, dtype: int64"
            ]
          },
          "metadata": {
            "tags": []
          },
          "execution_count": 5
        }
      ]
    },
    {
      "cell_type": "code",
      "metadata": {
        "colab": {
          "base_uri": "https://localhost:8080/",
          "height": 349
        },
        "id": "qr6Kqv29YHBn",
        "outputId": "758c5348-268a-492c-f09f-9abfdf64284f"
      },
      "source": [
        "train_tweets['length'] = train_tweets['tweet'].apply(len)\r\n",
        "fig1 = sns.barplot('label', 'length', data = train_tweets,palette='PRGn')\r\n",
        "plt.title('Average Word Length vs label')\r\n",
        "plot = fig1.get_figure()\r\n",
        "plot.savefig('Barplot.png')"
      ],
      "execution_count": 6,
      "outputs": [
        {
          "output_type": "stream",
          "text": [
            "/usr/local/lib/python3.6/dist-packages/seaborn/_decorators.py:43: FutureWarning: Pass the following variables as keyword args: x, y. From version 0.12, the only valid positional argument will be `data`, and passing other arguments without an explicit keyword will result in an error or misinterpretation.\n",
            "  FutureWarning\n"
          ],
          "name": "stderr"
        },
        {
          "output_type": "display_data",
          "data": {
            "image/png": "[encoded data removed]",
            "text/plain": [
              "<Figure size 432x288 with 1 Axes>"
            ]
          },
          "metadata": {
            "tags": [],
            "needs_background": "light"
          }
        }
      ]
    },
    {
      "cell_type": "code",
      "metadata": {
        "colab": {
          "base_uri": "https://localhost:8080/",
          "height": 295
        },
        "id": "cXCjo1dvWsuL",
        "outputId": "4079cc34-73f0-41c5-cc9c-491ea9b2d04c"
      },
      "source": [
        "fig2 = sns.countplot(x='label',data = train_tweets)\r\n",
        "plt.title('Label Counts')\r\n",
        "plot = fig2.get_figure()\r\n",
        "plot.savefig('Count Plot.png')"
      ],
      "execution_count": 7,
      "outputs": [
        {
          "output_type": "display_data",
          "data": {
            "image/png": "[encoded data removed]",
            "text/plain": [
              "<Figure size 432x288 with 1 Axes>"
            ]
          },
          "metadata": {
            "tags": [],
            "needs_background": "light"
          }
        }
      ]
    },
    {
      "cell_type": "markdown",
      "metadata": {
        "id": "Xt1-UTsMakoE"
      },
      "source": [
        "## Preprocessing the tweets"
      ]
    },
    {
      "cell_type": "code",
      "metadata": {
        "colab": {
          "base_uri": "https://localhost:8080/"
        },
        "id": "6VAIjl4PbU2P",
        "outputId": "7eb17a36-1b93-4f6e-c2ba-e3ba68f1340f"
      },
      "source": [
        "from textblob import TextBlob\r\n",
        "import re\r\n",
        "import nltk\r\n",
        "from nltk.corpus import stopwords\r\n",
        "from nltk.stem.wordnet import WordNetLemmatizer\r\n",
        "from sklearn.feature_extraction.text import CountVectorizer, TfidfTransformer\r\n",
        "from tensorflow.keras.preprocessing.sequence import pad_sequences\r\n",
        "from tensorflow.keras.preprocessing.text import one_hot\r\n",
        "\r\n",
        "nltk.download('stopwords')\r\n",
        "nltk.download('punkt')\r\n",
        "nltk.download('wordnet')"
      ],
      "execution_count": 8,
      "outputs": [
        {
          "output_type": "stream",
          "text": [
            "[nltk_data] Downloading package stopwords to /root/nltk_data...\n",
            "[nltk_data]   Package stopwords is already up-to-date!\n",
            "[nltk_data] Downloading package punkt to /root/nltk_data...\n",
            "[nltk_data]   Package punkt is already up-to-date!\n",
            "[nltk_data] Downloading package wordnet to /root/nltk_data...\n",
            "[nltk_data]   Package wordnet is already up-to-date!\n"
          ],
          "name": "stdout"
        },
        {
          "output_type": "execute_result",
          "data": {
            "text/plain": [
              "True"
            ]
          },
          "metadata": {
            "tags": []
          },
          "execution_count": 8
        }
      ]
    },
    {
      "cell_type": "code",
      "metadata": {
        "id": "TxQ3YXdcYhQ8"
      },
      "source": [
        "def text_processing(tweet):    \r\n",
        "  #Generating the list of words in the tweet (hastags and other punctuations removed)\r\n",
        "  def form_sentence(tweet):\r\n",
        "      tweet_blob = TextBlob(tweet)\r\n",
        "      return ' '.join(tweet_blob.words)\r\n",
        "  new_tweet = form_sentence(tweet)\r\n",
        "  \r\n",
        "  #Removing stopwords and words with unusual symbols\r\n",
        "  def no_user_alpha(tweet):\r\n",
        "      tweet_list = [ele for ele in tweet.split() if ele != 'user']\r\n",
        "      clean_tokens = [t for t in tweet_list if re.match(r'[^\\W\\d]*$', t)]\r\n",
        "      clean_s = ' '.join(clean_tokens)\r\n",
        "      clean_mess = [word for word in clean_s.split() if word.lower() not in stopwords.words('english')]\r\n",
        "      return clean_mess\r\n",
        "  no_punc_tweet = no_user_alpha(new_tweet)\r\n",
        "  \r\n",
        "  #Normalizing the words in tweets \r\n",
        "  def normalization(tweet_list):\r\n",
        "      lem = WordNetLemmatizer()\r\n",
        "      normalized_tweet = []\r\n",
        "      for word in tweet_list:\r\n",
        "          normalized_text = lem.lemmatize(word,'v')\r\n",
        "          normalized_tweet.append(normalized_text)\r\n",
        "      return normalized_tweet  \r\n",
        "  \r\n",
        "  return normalization(no_punc_tweet)\r\n"
      ],
      "execution_count": 9,
      "outputs": []
    },
    {
      "cell_type": "code",
      "metadata": {
        "id": "HKkXvLeUbAH8"
      },
      "source": [
        "train_tweets['tweet_list'] = train_tweets['tweet'].apply(text_processing)"
      ],
      "execution_count": 10,
      "outputs": []
    },
    {
      "cell_type": "code",
      "metadata": {
        "colab": {
          "base_uri": "https://localhost:8080/"
        },
        "id": "EnCEkI_0d0Eg",
        "outputId": "eb37a454-d414-4dc5-9631-ba1d32044c2f"
      },
      "source": [
        "# Calculating maximum length of tweet\r\n",
        "max_len = 0\r\n",
        "for i in train_tweets.length:\r\n",
        "  max_len = max(max_len, i)\r\n",
        "print(max_len)"
      ],
      "execution_count": 11,
      "outputs": [
        {
          "output_type": "stream",
          "text": [
            "274\n"
          ],
          "name": "stdout"
        }
      ]
    },
    {
      "cell_type": "code",
      "metadata": {
        "colab": {
          "base_uri": "https://localhost:8080/"
        },
        "id": "SqWckQ_0dpEQ",
        "outputId": "8721596b-98b3-483d-993c-766c3174b873"
      },
      "source": [
        "print(train_tweets.head())"
      ],
      "execution_count": 12,
      "outputs": [
        {
          "output_type": "stream",
          "text": [
            "   id  label  ... length                                         tweet_list\n",
            "0   1      0  ...    102  [father, dysfunctional, selfish, drag, kid, dy...\n",
            "1   2      0  ...    122  [thank, lyft, credit, ca, use, cause, offer, w...\n",
            "2   3      0  ...     21                                  [bihday, majesty]\n",
            "3   4      0  ...     86                    [model, love, u, take, u, time]\n",
            "4   5      0  ...     39                  [factsguide, society, motivation]\n",
            "\n",
            "[5 rows x 5 columns]\n"
          ],
          "name": "stdout"
        }
      ]
    },
    {
      "cell_type": "markdown",
      "metadata": {
        "id": "qT99JYy-nMCE"
      },
      "source": [
        "## One Hot Representation"
      ]
    },
    {
      "cell_type": "code",
      "metadata": {
        "colab": {
          "base_uri": "https://localhost:8080/"
        },
        "id": "fgP5JgurmOb5",
        "outputId": "3eb5b8bd-0787-400f-d245-fcafe402203b"
      },
      "source": [
        "tweets = train_tweets['tweet_list']\r\n",
        "vocab_size = 10000\r\n",
        "final_tweets = []\r\n",
        "\r\n",
        "for tweet in tweets:\r\n",
        "  corpus = []\r\n",
        "  for word in tweet:    \r\n",
        "    one_hot_rep = one_hot(word, 10000)\r\n",
        "    for i in one_hot_rep:\r\n",
        "      corpus.append(i)\r\n",
        "  final_tweets.append(corpus)\r\n",
        "\r\n",
        "embedded_docs=pad_sequences(final_tweets, padding='pre', maxlen=max_len)\r\n",
        "final_training_data = embedded_docs\r\n",
        "print(final_training_data[0])"
      ],
      "execution_count": 13,
      "outputs": [
        {
          "output_type": "stream",
          "text": [
            "[   0    0    0    0    0    0    0    0    0    0    0    0    0    0\n",
            "    0    0    0    0    0    0    0    0    0    0    0    0    0    0\n",
            "    0    0    0    0    0    0    0    0    0    0    0    0    0    0\n",
            "    0    0    0    0    0    0    0    0    0    0    0    0    0    0\n",
            "    0    0    0    0    0    0    0    0    0    0    0    0    0    0\n",
            "    0    0    0    0    0    0    0    0    0    0    0    0    0    0\n",
            "    0    0    0    0    0    0    0    0    0    0    0    0    0    0\n",
            "    0    0    0    0    0    0    0    0    0    0    0    0    0    0\n",
            "    0    0    0    0    0    0    0    0    0    0    0    0    0    0\n",
            "    0    0    0    0    0    0    0    0    0    0    0    0    0    0\n",
            "    0    0    0    0    0    0    0    0    0    0    0    0    0    0\n",
            "    0    0    0    0    0    0    0    0    0    0    0    0    0    0\n",
            "    0    0    0    0    0    0    0    0    0    0    0    0    0    0\n",
            "    0    0    0    0    0    0    0    0    0    0    0    0    0    0\n",
            "    0    0    0    0    0    0    0    0    0    0    0    0    0    0\n",
            "    0    0    0    0    0    0    0    0    0    0    0    0    0    0\n",
            "    0    0    0    0    0    0    0    0    0    0    0    0    0    0\n",
            "    0    0    0    0    0    0    0    0    0    0    0    0    0    0\n",
            "    0    0    0    0    0    0    0    0    0    0    0    0    0    0\n",
            "    0 3298 3750  743   97  524 5343 7239]\n"
          ],
          "name": "stdout"
        }
      ]
    },
    {
      "cell_type": "markdown",
      "metadata": {
        "id": "H5NErzCeb7OE"
      },
      "source": [
        "## Creating the model"
      ]
    },
    {
      "cell_type": "code",
      "metadata": {
        "id": "RlviM-cacNDd"
      },
      "source": [
        "import tensorflow as tf\r\n",
        "from tensorflow.keras import models\r\n",
        "from tensorflow.keras import layers\r\n",
        "from sklearn.model_selection import train_test_split"
      ],
      "execution_count": 14,
      "outputs": []
    },
    {
      "cell_type": "code",
      "metadata": {
        "id": "uLCGYxfkiNQz"
      },
      "source": [
        "X = np.array(final_training_data)\r\n",
        "y = np.array(train_tweets['label'])"
      ],
      "execution_count": 15,
      "outputs": []
    },
    {
      "cell_type": "code",
      "metadata": {
        "colab": {
          "base_uri": "https://localhost:8080/"
        },
        "id": "95qsFTrqhpjj",
        "outputId": "e4b4d027-741d-4543-f326-6b677f711cc2"
      },
      "source": [
        "# Train test slit\r\n",
        "\r\n",
        "X_train, X_test, y_train, y_test = train_test_split(X, y, test_size=0.2, random_state=42)\r\n",
        "print(len(X_train), len(y_train))\r\n",
        "print(len(X_test), len(y_test))"
      ],
      "execution_count": 16,
      "outputs": [
        {
          "output_type": "stream",
          "text": [
            "25569 25569\n",
            "6393 6393\n"
          ],
          "name": "stdout"
        }
      ]
    },
    {
      "cell_type": "code",
      "metadata": {
        "colab": {
          "base_uri": "https://localhost:8080/"
        },
        "id": "DBLO2Za7cDeK",
        "outputId": "89c36c46-fa3e-40f5-b86e-38dac071eb10"
      },
      "source": [
        "embedding_vector_features=40\r\n",
        "\r\n",
        "model = models.Sequential()\r\n",
        "model.add(layers.Embedding(vocab_size, embedding_vector_features, input_length=max_len))\r\n",
        "model.add(layers.Dropout(0.3))\r\n",
        "model.add(layers.LSTM(100))\r\n",
        "model.add(layers.Dropout(0.3))\r\n",
        "model.add(layers.Dense(1, activation='relu'))\r\n",
        "model.compile(loss='binary_crossentropy', optimizer='adam', metrics=['accuracy'])\r\n",
        "print(model.summary())"
      ],
      "execution_count": 17,
      "outputs": [
        {
          "output_type": "stream",
          "text": [
            "Model: \"sequential\"\n",
            "_________________________________________________________________\n",
            "Layer (type)                 Output Shape              Param #   \n",
            "=================================================================\n",
            "embedding (Embedding)        (None, 274, 40)           400000    \n",
            "_________________________________________________________________\n",
            "dropout (Dropout)            (None, 274, 40)           0         \n",
            "_________________________________________________________________\n",
            "lstm (LSTM)                  (None, 100)               56400     \n",
            "_________________________________________________________________\n",
            "dropout_1 (Dropout)          (None, 100)               0         \n",
            "_________________________________________________________________\n",
            "dense (Dense)                (None, 1)                 101       \n",
            "=================================================================\n",
            "Total params: 456,501\n",
            "Trainable params: 456,501\n",
            "Non-trainable params: 0\n",
            "_________________________________________________________________\n",
            "None\n"
          ],
          "name": "stdout"
        }
      ]
    },
    {
      "cell_type": "code",
      "metadata": {
        "colab": {
          "base_uri": "https://localhost:8080/"
        },
        "id": "LiVulBixcD26",
        "outputId": "33922274-fb37-4180-bc6b-174a2e0826c3"
      },
      "source": [
        "model.fit(X_train, y_train, validation_data=(X_test,y_test), epochs=3, batch_size=32)"
      ],
      "execution_count": 18,
      "outputs": [
        {
          "output_type": "stream",
          "text": [
            "Epoch 1/3\n",
            "800/800 [==============================] - 212s 262ms/step - loss: 0.2541 - accuracy: 0.9353 - val_loss: 0.2208 - val_accuracy: 0.9320\n",
            "Epoch 2/3\n",
            "800/800 [==============================] - 229s 286ms/step - loss: 0.1661 - accuracy: 0.9475 - val_loss: 0.2265 - val_accuracy: 0.9575\n",
            "Epoch 3/3\n",
            "800/800 [==============================] - 223s 279ms/step - loss: 0.1588 - accuracy: 0.9581 - val_loss: 0.2032 - val_accuracy: 0.9476\n"
          ],
          "name": "stdout"
        },
        {
          "output_type": "execute_result",
          "data": {
            "text/plain": [
              "<tensorflow.python.keras.callbacks.History at 0x7fcc3ffca4e0>"
            ]
          },
          "metadata": {
            "tags": []
          },
          "execution_count": 18
        }
      ]
    },
    {
      "cell_type": "markdown",
      "metadata": {
        "id": "nrsI-FLC4Fo8"
      },
      "source": [
        "## Testing the model"
      ]
    },
    {
      "cell_type": "code",
      "metadata": {
        "id": "WgNgT1zr4K_N"
      },
      "source": [
        "from sklearn.metrics import confusion_matrix"
      ],
      "execution_count": 19,
      "outputs": []
    },
    {
      "cell_type": "code",
      "metadata": {
        "colab": {
          "base_uri": "https://localhost:8080/"
        },
        "id": "Bs81Tyo84MrU",
        "outputId": "72fec5cf-9cf9-47a8-c94d-f904032a85d5"
      },
      "source": [
        "y_pred = model.predict_classes(X_test)\r\n",
        "confusion_matrix(y_test,y_pred)"
      ],
      "execution_count": 20,
      "outputs": [
        {
          "output_type": "stream",
          "text": [
            "/usr/local/lib/python3.6/dist-packages/tensorflow/python/keras/engine/sequential.py:450: UserWarning: `model.predict_classes()` is deprecated and will be removed after 2021-01-01. Please use instead:* `np.argmax(model.predict(x), axis=-1)`,   if your model does multi-class classification   (e.g. if it uses a `softmax` last-layer activation).* `(model.predict(x) > 0.5).astype(\"int32\")`,   if your model does binary classification   (e.g. if it uses a `sigmoid` last-layer activation).\n",
            "  warnings.warn('`model.predict_classes()` is deprecated and '\n"
          ],
          "name": "stderr"
        },
        {
          "output_type": "execute_result",
          "data": {
            "text/plain": [
              "array([[5759,  178],\n",
              "       [ 157,  299]])"
            ]
          },
          "metadata": {
            "tags": []
          },
          "execution_count": 20
        }
      ]
    },
    {
      "cell_type": "code",
      "metadata": {
        "colab": {
          "base_uri": "https://localhost:8080/"
        },
        "id": "VsnNVwJ94bGP",
        "outputId": "61e2a758-067e-4485-f6ae-a6d3a3b7c626"
      },
      "source": [
        "print(y_test[2])\r\n",
        "print(y_pred[2][0])"
      ],
      "execution_count": 21,
      "outputs": [
        {
          "output_type": "stream",
          "text": [
            "0\n",
            "0\n"
          ],
          "name": "stdout"
        }
      ]
    },
    {
      "cell_type": "code",
      "metadata": {
        "colab": {
          "base_uri": "https://localhost:8080/"
        },
        "id": "p0ZoiI-o37uI",
        "outputId": "d02d32ee-6274-46fd-d372-e2b0f111a4b3"
      },
      "source": [
        "loss, accuracy = model.evaluate(X_test, y_test)\r\n",
        "print(\"Loss: \", loss)\r\n",
        "print(\"Accuracy: \", accuracy)"
      ],
      "execution_count": 22,
      "outputs": [
        {
          "output_type": "stream",
          "text": [
            "200/200 [==============================] - 12s 60ms/step - loss: 0.2032 - accuracy: 0.9476\n",
            "Loss:  0.20321416854858398\n",
            "Accuracy:  0.947598934173584\n"
          ],
          "name": "stdout"
        }
      ]
    },
    {
      "cell_type": "code",
      "metadata": {
        "id": "549yxmaNcJCp"
      },
      "source": [
        ""
      ],
      "execution_count": 22,
      "outputs": []
    }
  ]
}